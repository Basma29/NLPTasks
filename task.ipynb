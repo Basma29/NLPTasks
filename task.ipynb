{
  "nbformat": 4,
  "nbformat_minor": 0,
  "metadata": {
    "colab": {
      "provenance": [],
      "authorship_tag": "ABX9TyNobi8jJZTKqFr6eNH0lCYF",
      "include_colab_link": true
    },
    "kernelspec": {
      "name": "python3",
      "display_name": "Python 3"
    },
    "language_info": {
      "name": "python"
    }
  },
  "cells": [
    {
      "cell_type": "markdown",
      "metadata": {
        "id": "view-in-github",
        "colab_type": "text"
      },
      "source": [
        "<a href=\"https://colab.research.google.com/github/Basma29/NLPTasks/blob/main/task.ipynb\" target=\"_parent\"><img src=\"https://colab.research.google.com/assets/colab-badge.svg\" alt=\"Open In Colab\"/></a>"
      ]
    },
    {
      "cell_type": "code",
      "source": [
        "import numpy as np\n",
        "import tensorflow as tf\n",
        "from tensorflow.keras.preprocessing.text import Tokenizer\n",
        "from tensorflow.keras.preprocessing.sequence import pad_sequences\n",
        "from tensorflow.keras.datasets import imdb"
      ],
      "metadata": {
        "id": "QUJIVYEHNjnW"
      },
      "execution_count": null,
      "outputs": []
    },
    {
      "cell_type": "code",
      "source": [
        "import pandas as pd\n",
        "df = pd.read_csv(\"IMDB Dataset.csv\", encoding=\"utf-8\", sep=\",\", on_bad_lines=\"skip\", quoting=3)\n",
        "\n",
        "print(df.head())\n",
        "print(df.columns)\n",
        "print(f\"Dataset has {df.shape[1]} columns\")"
      ],
      "metadata": {
        "colab": {
          "base_uri": "https://localhost:8080/"
        },
        "collapsed": true,
        "id": "wGCDcvZ3kqCs",
        "outputId": "cb44c38f-6a6f-45d5-99b4-7743c4543226"
      },
      "execution_count": null,
      "outputs": [
        {
          "output_type": "stream",
          "name": "stdout",
          "text": [
            "                                                                                                      m I watch all of them. Horror especially. My friends and I all gather after a hard week at school and work  \\\n",
            "\"During World War II                               two Byelorussian (Soviet Russian) soldiers try ...               as they trudge through snowy terrain                                                           \n",
            "\"Gilmore Girls is a hilarious show with never e... wit                                                  and charm. At age 16 Lorelai Gilmore gave bir...                                                           \n",
            "\"A found tape about 3? guys having fun torturin... spoiler.<br /><br />First of all                          the acting made this short not scary at all                                                           \n",
            "\"The Biggest one that bugs the hell out of me i... its like saying \"\"well he takes French commands...   even if its mend to be a comedy.<br /><br />T...                                                           \n",
            "\"Where to start?? I think only three other film... and all of those were positive. As for this..?<...                                          hideously                                                           \n",
            "\n",
            "                                                                                                                                   rent some crazy tapes  \\\n",
            "\"During World War II                               two Byelorussian (Soviet Russian) soldiers try ...   searching for food and safety. If you happen ...   \n",
            "\"Gilmore Girls is a hilarious show with never e... wit                                                  Lorelai and Rory have a relationship that man...   \n",
            "\"A found tape about 3? guys having fun torturin... spoiler.<br /><br />First of all                                     the woman seemed to have orgasms   \n",
            "\"The Biggest one that bugs the hell out of me i... its like saying \"\"well he takes French commands...                                           negative   \n",
            "\"Where to start?? I think only three other film... and all of those were positive. As for this..?<...                                         tragically   \n",
            "\n",
            "                                                                                                       order a pizza and have a blast. One of the ones we got at Hollywood Video  \\\n",
            "\"During World War II                               two Byelorussian (Soviet Russian) soldiers try ...   you may still enjoy \"\"Voskhozhdeniye\"\" (retil...                           \n",
            "\"Gilmore Girls is a hilarious show with never e... wit                                                                                      and TV shows                           \n",
            "\"A found tape about 3? guys having fun torturin... spoiler.<br /><br />First of all                     not suffering. Some of the punishments were s...                           \n",
            "\"The Biggest one that bugs the hell out of me i... its like saying \"\"well he takes French commands...                                                NaN                           \n",
            "\"Where to start?? I think only three other film... and all of those were positive. As for this..?<...                                     embarrassingly                           \n",
            "\n",
            "                                                                                                                                            was this one  \\\n",
            "\"During World War II                               two Byelorussian (Soviet Russian) soldiers try ...   despite its being a largely introspective pie...   \n",
            "\"Gilmore Girls is a hilarious show with never e... wit                                                  and are constantly quoting them. In the first...   \n",
            "\"A found tape about 3? guys having fun torturin... spoiler.<br /><br />First of all                     at least make it good. The only part to remar...   \n",
            "\"The Biggest one that bugs the hell out of me i... its like saying \"\"well he takes French commands...                                                NaN   \n",
            "\"Where to start?? I think only three other film... and all of those were positive. As for this..?<...                                   catastrophically   \n",
            "\n",
            "                                                                                                              Zombie Bloodbath. This one had a great box  \\\n",
            "\"During World War II                               two Byelorussian (Soviet Russian) soldiers try ...                                  in a car accident   \n",
            "\"Gilmore Girls is a hilarious show with never e... wit                                                  Lorelai needs money to send Rory to Chilton (...   \n",
            "\"A found tape about 3? guys having fun torturin... spoiler.<br /><br />First of all                     the rest of the film is really poor. To end t...   \n",
            "\"The Biggest one that bugs the hell out of me i... its like saying \"\"well he takes French commands...                                                NaN   \n",
            "\"Where to start?? I think only three other film... and all of those were positive. As for this..?<...                                           stupidly   \n",
            "\n",
            "                                                                                                       so I was expecting less than usual.<br /><br />The story is about a housing project that is built over a nuclear facility that has had the above-ground layers bulldozed  \\\n",
            "\"During World War II                               two Byelorussian (Soviet Russian) soldiers try ...                made this Ms. Shepitko's final film                                                                                                                          \n",
            "\"Gilmore Girls is a hilarious show with never e... wit                                                  so she reluctantly has to turn to her parents...                                                                                                                          \n",
            "\"A found tape about 3? guys having fun torturin... spoiler.<br /><br />First of all                     the supposed story about the tape being inves...                                                                                                                          \n",
            "\"The Biggest one that bugs the hell out of me i... its like saying \"\"well he takes French commands...                                                NaN                                                                                                                          \n",
            "\"Where to start?? I think only three other film... and all of those were positive. As for this..?<...                                       irritatingly                                                                                                                          \n",
            "\n",
            "                                                                                                       and the other underground layers are simply covered up. The inhabitants of this neighborhood find the covered up facility when some kids fall into a hole inside a cave. This wakes up some zombies.<br /><br />From this point on  \\\n",
            "\"During World War II                               two Byelorussian (Soviet Russian) soldiers try ...   unfortunately.<br /><br />After the opening m...                                                                                                                                                                                    \n",
            "\"Gilmore Girls is a hilarious show with never e... wit                                                                                   but in exchange                                                                                                                                                                                    \n",
            "\"A found tape about 3? guys having fun torturin... spoiler.<br /><br />First of all                                                     extra bullshit.\"                                                                                                                                                                                    \n",
            "\"The Biggest one that bugs the hell out of me i... its like saying \"\"well he takes French commands...                                                NaN                                                                                                                                                                                    \n",
            "\"Where to start?? I think only three other film... and all of those were positive. As for this..?<...   completely and utterly beyond awful.<br /><br...                                                                                                                                                                                    \n",
            "\n",
            "                                                                                                       it's chunk-city. The gore effects and action never stop until the end credits roll.<br /><br />OK  \\\n",
            "\"During World War II                               two Byelorussian (Soviet Russian) soldiers try ...   there doesn't seem to be much that could happ...                                                   \n",
            "\"Gilmore Girls is a hilarious show with never e... wit                                                  Rory has to come have dinner with them every ...                                                   \n",
            "\"A found tape about 3? guys having fun torturin... spoiler.<br /><br />First of all                                                             negative                                                   \n",
            "\"The Biggest one that bugs the hell out of me i... its like saying \"\"well he takes French commands...                                                NaN                                                   \n",
            "\"Where to start?? I think only three other film... and all of those were positive. As for this..?<...   never mind given a theatrical release. I thin...                                                   \n",
            "\n",
            "                                                                                                                                      it's not great art  \\\n",
            "\"During World War II                               two Byelorussian (Soviet Russian) soldiers try ...   but Shepitko and a changing setting make it u...   \n",
            "\"Gilmore Girls is a hilarious show with never e... wit                                                                                          positive   \n",
            "\"A found tape about 3? guys having fun torturin... spoiler.<br /><br />First of all                                                                  NaN   \n",
            "\"The Biggest one that bugs the hell out of me i... its like saying \"\"well he takes French commands...                                                NaN   \n",
            "\"Where to start?? I think only three other film... and all of those were positive. As for this..?<...   but this is truly beyond a joke. We simply MU...   \n",
            "\n",
            "                                                                                                                            but this one  \\\n",
            "\"During World War II                               two Byelorussian (Soviet Russian) soldiers try ...   under Shepitko's sharp direction   \n",
            "\"Gilmore Girls is a hilarious show with never e... wit                                                                               NaN   \n",
            "\"A found tape about 3? guys having fun torturin... spoiler.<br /><br />First of all                                                  NaN   \n",
            "\"The Biggest one that bugs the hell out of me i... its like saying \"\"well he takes French commands...                                NaN   \n",
            "\"Where to start?? I think only three other film... and all of those were positive. As for this..?<...                           negative   \n",
            "\n",
            "                                                                                                       with it's in-joke dialogue and over-the-top gruesome stuff was our favorite of the evening. Actually  \\\n",
            "\"During World War II                               two Byelorussian (Soviet Russian) soldiers try ...   provide a memorable and thought-provoking tak...                                                      \n",
            "\"Gilmore Girls is a hilarious show with never e... wit                                                                                               NaN                                                      \n",
            "\"A found tape about 3? guys having fun torturin... spoiler.<br /><br />First of all                                                                  NaN                                                      \n",
            "\"The Biggest one that bugs the hell out of me i... its like saying \"\"well he takes French commands...                                                NaN                                                      \n",
            "\"Where to start?? I think only three other film... and all of those were positive. As for this..?<...                                                NaN                                                      \n",
            "\n",
            "                                                                                                       it was one of the best \"\"party tapes\"\" I have ever had the pleasure of watching. And you could tell it was done on no money  \\\n",
            "\"During World War II                               two Byelorussian (Soviet Russian) soldiers try ...                                    Boris Plotnikov                                                                             \n",
            "\"Gilmore Girls is a hilarious show with never e... wit                                                                                               NaN                                                                             \n",
            "\"A found tape about 3? guys having fun torturin... spoiler.<br /><br />First of all                                                                  NaN                                                                             \n",
            "\"The Biggest one that bugs the hell out of me i... its like saying \"\"well he takes French commands...                                                NaN                                                                             \n",
            "\"Where to start?? I think only three other film... and all of those were positive. As for this..?<...                                                NaN                                                                             \n",
            "\n",
            "                                                                                                       with a bunch of crazy people. There are hundreds of zombies  \\\n",
            "\"During World War II                               two Byelorussian (Soviet Russian) soldiers try ...                                 Lyudmila Polyakova             \n",
            "\"Gilmore Girls is a hilarious show with never e... wit                                                                                               NaN             \n",
            "\"A found tape about 3? guys having fun torturin... spoiler.<br /><br />First of all                                                                  NaN             \n",
            "\"The Biggest one that bugs the hell out of me i... its like saying \"\"well he takes French commands...                                                NaN             \n",
            "\"Where to start?? I think only three other film... and all of those were positive. As for this..?<...                                                NaN             \n",
            "\n",
            "                                                                                                       and the Director looks like Brendan Frazer (he has a cameo) and it is just a wild trip.\"  \\\n",
            "\"During World War II                               two Byelorussian (Soviet Russian) soldiers try ...                                Anatoli Solonitsyn\"                                          \n",
            "\"Gilmore Girls is a hilarious show with never e... wit                                                                                               NaN                                          \n",
            "\"A found tape about 3? guys having fun torturin... spoiler.<br /><br />First of all                                                                  NaN                                          \n",
            "\"The Biggest one that bugs the hell out of me i... its like saying \"\"well he takes French commands...                                                NaN                                          \n",
            "\"Where to start?? I think only three other film... and all of those were positive. As for this..?<...                                                NaN                                          \n",
            "\n",
            "                                                                                                       positive  \n",
            "\"During World War II                               two Byelorussian (Soviet Russian) soldiers try ...  positive  \n",
            "\"Gilmore Girls is a hilarious show with never e... wit                                                      NaN  \n",
            "\"A found tape about 3? guys having fun torturin... spoiler.<br /><br />First of all                         NaN  \n",
            "\"The Biggest one that bugs the hell out of me i... its like saying \"\"well he takes French commands...       NaN  \n",
            "\"Where to start?? I think only three other film... and all of those were positive. As for this..?<...       NaN  \n",
            "Index(['m I watch all of them. Horror especially. My friends and I all gather after a hard week at school and work',\n",
            "       ' rent some crazy tapes',\n",
            "       ' order a pizza and have a blast. One of the ones we got at Hollywood Video',\n",
            "       ' was this one', ' Zombie Bloodbath. This one had a great box',\n",
            "       ' so I was expecting less than usual.<br /><br />The story is about a housing project that is built over a nuclear facility that has had the above-ground layers bulldozed',\n",
            "       ' and the other underground layers are simply covered up. The inhabitants of this neighborhood find the covered up facility when some kids fall into a hole inside a cave. This wakes up some zombies.<br /><br />From this point on',\n",
            "       ' it's chunk-city. The gore effects and action never stop until the end credits roll.<br /><br />OK',\n",
            "       ' it's not great art', ' but this one',\n",
            "       ' with it's in-joke dialogue and over-the-top gruesome stuff was our favorite of the evening. Actually',\n",
            "       ' it was one of the best \"\"party tapes\"\" I have ever had the pleasure of watching. And you could tell it was done on no money',\n",
            "       ' with a bunch of crazy people. There are hundreds of zombies',\n",
            "       ' and the Director looks like Brendan Frazer (he has a cameo) and it is just a wild trip.\"',\n",
            "       'positive'],\n",
            "      dtype='object')\n",
            "Dataset has 15 columns\n"
          ]
        }
      ]
    },
    {
      "cell_type": "code",
      "source": [
        "df = df.iloc[:, [0, 1]]\n",
        "df.columns = [\"review\", \"sentiment\"]\n",
        "df.columns = df.columns.str.strip()\n",
        "df = df.dropna()\n",
        "print(f\"Dataset size after cleaning: {df.shape}\")\n"
      ],
      "metadata": {
        "colab": {
          "base_uri": "https://localhost:8080/"
        },
        "id": "w-6XvIBDl17J",
        "outputId": "8dbaaf70-112c-46ee-b7df-ce70fc0a2597"
      },
      "execution_count": null,
      "outputs": [
        {
          "output_type": "stream",
          "name": "stdout",
          "text": [
            "Dataset size after cleaning: (33691, 2)\n"
          ]
        }
      ]
    },
    {
      "cell_type": "code",
      "source": [
        "import tensorflow as tf\n",
        "from sklearn.model_selection import train_test_split\n",
        "import numpy as np\n",
        "texts = df['review'].astype(str).tolist()\n",
        "labels = df['sentiment'].apply(lambda x: 1 if x == \"positive\" else 0).values\n",
        "\n",
        "x_train, x_test, y_train, y_test = train_test_split(texts, labels, test_size=0.2, random_state=42)\n",
        "\n",
        "vocab_size = 10000\n",
        "max_length = 200\n",
        "tokenizer = Tokenizer(num_words=vocab_size, oov_token=\"<OOV>\")\n",
        "tokenizer.fit_on_texts(x_train)\n",
        "\n",
        "x_train_seq = tokenizer.texts_to_sequences(x_train)\n",
        "x_test_seq = tokenizer.texts_to_sequences(x_test)\n",
        "\n",
        "x_train_pad = pad_sequences(x_train_seq, maxlen=max_length, padding='post', truncating='post')\n",
        "x_test_pad = pad_sequences(x_test_seq, maxlen=max_length, padding='post', truncating='post')\n"
      ],
      "metadata": {
        "id": "lG0VC2mUeOK9"
      },
      "execution_count": null,
      "outputs": []
    },
    {
      "cell_type": "code",
      "source": [
        "from tensorflow.keras.models import Sequential\n",
        "from tensorflow.keras.layers import Embedding, LSTM, Dense\n",
        "model = Sequential([\n",
        "    Embedding(input_dim=vocab_size, output_dim=32, input_length=max_length),\n",
        "    LSTM(32, return_sequences=False),\n",
        "    Dense(1, activation='sigmoid')\n",
        "])\n",
        "\n",
        "model.compile(loss='binary_crossentropy', optimizer='adam', metrics=['accuracy'])\n",
        "model.summary()\n",
        "\n"
      ],
      "metadata": {
        "colab": {
          "base_uri": "https://localhost:8080/",
          "height": 260
        },
        "id": "MAmNscLJmuMn",
        "outputId": "ff3473e4-72ea-4968-f616-e9ccc153384d"
      },
      "execution_count": null,
      "outputs": [
        {
          "output_type": "stream",
          "name": "stderr",
          "text": [
            "/usr/local/lib/python3.11/dist-packages/keras/src/layers/core/embedding.py:90: UserWarning: Argument `input_length` is deprecated. Just remove it.\n",
            "  warnings.warn(\n"
          ]
        },
        {
          "output_type": "display_data",
          "data": {
            "text/plain": [
              "\u001b[1mModel: \"sequential_3\"\u001b[0m\n"
            ],
            "text/html": [
              "<pre style=\"white-space:pre;overflow-x:auto;line-height:normal;font-family:Menlo,'DejaVu Sans Mono',consolas,'Courier New',monospace\"><span style=\"font-weight: bold\">Model: \"sequential_3\"</span>\n",
              "</pre>\n"
            ]
          },
          "metadata": {}
        },
        {
          "output_type": "display_data",
          "data": {
            "text/plain": [
              "┏━━━━━━━━━━━━━━━━━━━━━━━━━━━━━━━━━━━━━━┳━━━━━━━━━━━━━━━━━━━━━━━━━━━━━┳━━━━━━━━━━━━━━━━━┓\n",
              "┃\u001b[1m \u001b[0m\u001b[1mLayer (type)                        \u001b[0m\u001b[1m \u001b[0m┃\u001b[1m \u001b[0m\u001b[1mOutput Shape               \u001b[0m\u001b[1m \u001b[0m┃\u001b[1m \u001b[0m\u001b[1m        Param #\u001b[0m\u001b[1m \u001b[0m┃\n",
              "┡━━━━━━━━━━━━━━━━━━━━━━━━━━━━━━━━━━━━━━╇━━━━━━━━━━━━━━━━━━━━━━━━━━━━━╇━━━━━━━━━━━━━━━━━┩\n",
              "│ embedding_3 (\u001b[38;5;33mEmbedding\u001b[0m)              │ ?                           │     \u001b[38;5;34m0\u001b[0m (unbuilt) │\n",
              "├──────────────────────────────────────┼─────────────────────────────┼─────────────────┤\n",
              "│ lstm (\u001b[38;5;33mLSTM\u001b[0m)                          │ ?                           │     \u001b[38;5;34m0\u001b[0m (unbuilt) │\n",
              "├──────────────────────────────────────┼─────────────────────────────┼─────────────────┤\n",
              "│ dense_3 (\u001b[38;5;33mDense\u001b[0m)                      │ ?                           │     \u001b[38;5;34m0\u001b[0m (unbuilt) │\n",
              "└──────────────────────────────────────┴─────────────────────────────┴─────────────────┘\n"
            ],
            "text/html": [
              "<pre style=\"white-space:pre;overflow-x:auto;line-height:normal;font-family:Menlo,'DejaVu Sans Mono',consolas,'Courier New',monospace\">┏━━━━━━━━━━━━━━━━━━━━━━━━━━━━━━━━━━━━━━┳━━━━━━━━━━━━━━━━━━━━━━━━━━━━━┳━━━━━━━━━━━━━━━━━┓\n",
              "┃<span style=\"font-weight: bold\"> Layer (type)                         </span>┃<span style=\"font-weight: bold\"> Output Shape                </span>┃<span style=\"font-weight: bold\">         Param # </span>┃\n",
              "┡━━━━━━━━━━━━━━━━━━━━━━━━━━━━━━━━━━━━━━╇━━━━━━━━━━━━━━━━━━━━━━━━━━━━━╇━━━━━━━━━━━━━━━━━┩\n",
              "│ embedding_3 (<span style=\"color: #0087ff; text-decoration-color: #0087ff\">Embedding</span>)              │ ?                           │     <span style=\"color: #00af00; text-decoration-color: #00af00\">0</span> (unbuilt) │\n",
              "├──────────────────────────────────────┼─────────────────────────────┼─────────────────┤\n",
              "│ lstm (<span style=\"color: #0087ff; text-decoration-color: #0087ff\">LSTM</span>)                          │ ?                           │     <span style=\"color: #00af00; text-decoration-color: #00af00\">0</span> (unbuilt) │\n",
              "├──────────────────────────────────────┼─────────────────────────────┼─────────────────┤\n",
              "│ dense_3 (<span style=\"color: #0087ff; text-decoration-color: #0087ff\">Dense</span>)                      │ ?                           │     <span style=\"color: #00af00; text-decoration-color: #00af00\">0</span> (unbuilt) │\n",
              "└──────────────────────────────────────┴─────────────────────────────┴─────────────────┘\n",
              "</pre>\n"
            ]
          },
          "metadata": {}
        },
        {
          "output_type": "display_data",
          "data": {
            "text/plain": [
              "\u001b[1m Total params: \u001b[0m\u001b[38;5;34m0\u001b[0m (0.00 B)\n"
            ],
            "text/html": [
              "<pre style=\"white-space:pre;overflow-x:auto;line-height:normal;font-family:Menlo,'DejaVu Sans Mono',consolas,'Courier New',monospace\"><span style=\"font-weight: bold\"> Total params: </span><span style=\"color: #00af00; text-decoration-color: #00af00\">0</span> (0.00 B)\n",
              "</pre>\n"
            ]
          },
          "metadata": {}
        },
        {
          "output_type": "display_data",
          "data": {
            "text/plain": [
              "\u001b[1m Trainable params: \u001b[0m\u001b[38;5;34m0\u001b[0m (0.00 B)\n"
            ],
            "text/html": [
              "<pre style=\"white-space:pre;overflow-x:auto;line-height:normal;font-family:Menlo,'DejaVu Sans Mono',consolas,'Courier New',monospace\"><span style=\"font-weight: bold\"> Trainable params: </span><span style=\"color: #00af00; text-decoration-color: #00af00\">0</span> (0.00 B)\n",
              "</pre>\n"
            ]
          },
          "metadata": {}
        },
        {
          "output_type": "display_data",
          "data": {
            "text/plain": [
              "\u001b[1m Non-trainable params: \u001b[0m\u001b[38;5;34m0\u001b[0m (0.00 B)\n"
            ],
            "text/html": [
              "<pre style=\"white-space:pre;overflow-x:auto;line-height:normal;font-family:Menlo,'DejaVu Sans Mono',consolas,'Courier New',monospace\"><span style=\"font-weight: bold\"> Non-trainable params: </span><span style=\"color: #00af00; text-decoration-color: #00af00\">0</span> (0.00 B)\n",
              "</pre>\n"
            ]
          },
          "metadata": {}
        }
      ]
    },
    {
      "cell_type": "code",
      "source": [
        "model.fit(x_train_pad, y_train, epochs=5, batch_size=64, validation_data=(x_test_pad, y_test))\n"
      ],
      "metadata": {
        "colab": {
          "base_uri": "https://localhost:8080/"
        },
        "id": "xEDpk80UnAEm",
        "outputId": "f25b1964-1861-418d-f832-021de42aacc7"
      },
      "execution_count": null,
      "outputs": [
        {
          "output_type": "stream",
          "name": "stdout",
          "text": [
            "Epoch 1/5\n",
            "\u001b[1m422/422\u001b[0m \u001b[32m━━━━━━━━━━━━━━━━━━━━\u001b[0m\u001b[37m\u001b[0m \u001b[1m53s\u001b[0m 116ms/step - accuracy: 0.9412 - loss: 0.2218 - val_accuracy: 0.9549 - val_loss: 0.1842\n",
            "Epoch 2/5\n",
            "\u001b[1m422/422\u001b[0m \u001b[32m━━━━━━━━━━━━━━━━━━━━\u001b[0m\u001b[37m\u001b[0m \u001b[1m78s\u001b[0m 107ms/step - accuracy: 0.9592 - loss: 0.1705 - val_accuracy: 0.9549 - val_loss: 0.1839\n",
            "Epoch 3/5\n",
            "\u001b[1m422/422\u001b[0m \u001b[32m━━━━━━━━━━━━━━━━━━━━\u001b[0m\u001b[37m\u001b[0m \u001b[1m83s\u001b[0m 110ms/step - accuracy: 0.9557 - loss: 0.1814 - val_accuracy: 0.9549 - val_loss: 0.1838\n",
            "Epoch 4/5\n",
            "\u001b[1m422/422\u001b[0m \u001b[32m━━━━━━━━━━━━━━━━━━━━\u001b[0m\u001b[37m\u001b[0m \u001b[1m83s\u001b[0m 113ms/step - accuracy: 0.9559 - loss: 0.1811 - val_accuracy: 0.9549 - val_loss: 0.1848\n",
            "Epoch 5/5\n",
            "\u001b[1m422/422\u001b[0m \u001b[32m━━━━━━━━━━━━━━━━━━━━\u001b[0m\u001b[37m\u001b[0m \u001b[1m80s\u001b[0m 107ms/step - accuracy: 0.9554 - loss: 0.1832 - val_accuracy: 0.9547 - val_loss: 0.1838\n"
          ]
        },
        {
          "output_type": "execute_result",
          "data": {
            "text/plain": [
              "<keras.src.callbacks.history.History at 0x79269ecb6690>"
            ]
          },
          "metadata": {},
          "execution_count": 63
        }
      ]
    },
    {
      "cell_type": "code",
      "source": [
        "test_loss, test_acc = model.evaluate(x_test_pad, y_test)\n",
        "print(f\"Test Accuracy: {test_acc * 100:.2f}%\")"
      ],
      "metadata": {
        "colab": {
          "base_uri": "https://localhost:8080/"
        },
        "id": "ymcr9uDLnzHH",
        "outputId": "cac4e393-52c5-47cf-8543-6b2d1ed43728"
      },
      "execution_count": null,
      "outputs": [
        {
          "output_type": "stream",
          "name": "stdout",
          "text": [
            "\u001b[1m211/211\u001b[0m \u001b[32m━━━━━━━━━━━━━━━━━━━━\u001b[0m\u001b[37m\u001b[0m \u001b[1m6s\u001b[0m 27ms/step - accuracy: 0.9566 - loss: 0.1785\n",
            "Test Accuracy: 95.47%\n"
          ]
        }
      ]
    }
  ]
}