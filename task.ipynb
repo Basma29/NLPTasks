{
  "nbformat": 4,
  "nbformat_minor": 0,
  "metadata": {
    "colab": {
      "provenance": [],
      "authorship_tag": "ABX9TyP3CX0eF8sd0YJ1+bA7ucg5",
      "include_colab_link": true
    },
    "kernelspec": {
      "name": "python3",
      "display_name": "Python 3"
    },
    "language_info": {
      "name": "python"
    }
  },
  "cells": [
    {
      "cell_type": "markdown",
      "metadata": {
        "id": "view-in-github",
        "colab_type": "text"
      },
      "source": [
        "<a href=\"https://colab.research.google.com/github/Basma29/NLPTasks/blob/main/task.ipynb\" target=\"_parent\"><img src=\"https://colab.research.google.com/assets/colab-badge.svg\" alt=\"Open In Colab\"/></a>"
      ]
    },
    {
      "cell_type": "code",
      "source": [
        "import numpy as np\n",
        "import tensorflow as tf\n",
        "from tensorflow.keras.preprocessing.text import Tokenizer\n",
        "from tensorflow.keras.preprocessing.sequence import pad_sequences\n",
        "from tensorflow.keras.datasets import imdb"
      ],
      "metadata": {
        "id": "QUJIVYEHNjnW"
      },
      "execution_count": 6,
      "outputs": []
    },
    {
      "cell_type": "code",
      "source": [
        "import pandas as pd\n",
        "df = pd.read_csv(\"IMDB Dataset.csv\", encoding=\"utf-8\", sep=\",\", on_bad_lines=\"skip\", quoting=3)\n",
        "\n",
        "print(df.head())\n",
        "print(df.columns)\n",
        "print(f\"Dataset has {df.shape[1]} columns\")"
      ],
      "metadata": {
        "colab": {
          "base_uri": "https://localhost:8080/"
        },
        "collapsed": true,
        "id": "wGCDcvZ3kqCs",
        "outputId": "e8c5a82e-6b26-4ecc-f604-3afc360b21da"
      },
      "execution_count": 4,
      "outputs": [
        {
          "output_type": "stream",
          "name": "stdout",
          "text": [
            "                                                                                                                                                                                                                                                                                                                                                                                                                                                                                                                                                                                                                                                                                                                                                                                                                                                                                                                                                                                                                                                                                           review  \\\n",
            "\"One of the other reviewers has mentioned that ... as this is exactly what happened with me.<br />... which set in right from the word GO. Trust me      this is not a show for the faint hearted or tim...  sex or violence. Its is hardcore                   in the classic use of the word.<br /><br />It ...  an experimental section of the prison where al...  so privacy is not high on the agenda. Em City ...  Muslims     gangstas           Latinos         Christians                         Italians                                           Irish and more....so scuffles  death stares  dodgy dealings and shady agreements are never ...  forget charm  forget romance...OZ doesn't mess around. The f...  I couldn't say I was ready for it  but as I watched more  I developed a taste for Oz  and got accustomed to the high levels of graph...  but injustice (crooked guards who'll be sold o...  inmates who'll kill on order and get away with it  well mannered  middle class inmates being turned into prison ...   you may become comfortable with what is uncom...   \n",
            "\"A wonderful little production. <br /><br />The... and sometimes discomforting                        sense of realism to the entire piece. <br /><br... not only is it well worth the watching but it i...  rather than use the traditional 'dream' techni...  particularly with the scenes concerning Orton ... positive                                           NaN                                                NaN         NaN                NaN             NaN                                NaN                                                NaN                            NaN           NaN                                                NaN           NaN                                                NaN                                NaN                    NaN                         NaN                                                NaN                                                NaN                                                NaN            NaN                                                                                               NaN   \n",
            "\"I thought this was a wonderful way to spend ti... sitting in the air conditioned theater and watc... but the dialogue is witty and the characters ar... I thought it was proof that Woody Allen is stil...  in this she managed to tone down her \"\"sexy\"\" ...  but spirited young woman.<br /><br />This may ...  but it was wittier than \"\"Devil Wears Prada\"\" ... positive                                           NaN         NaN                NaN             NaN                                NaN                                                NaN                            NaN           NaN                                                NaN           NaN                                                NaN                                NaN                    NaN                         NaN                                                NaN                                                NaN                                                NaN            NaN                                                                                               NaN   \n",
            "\"Basically there's a family where a little boy ... Jake decides to become Rambo and kill the zombi... first of all when you're going to make a film y... and instead i watched a drama with some meaning... negative                                           NaN                                                NaN                                                NaN                                                NaN         NaN                NaN             NaN                                NaN                                                NaN                            NaN           NaN                                                NaN           NaN                                                NaN                                NaN                    NaN                         NaN                                                NaN                                                NaN                                                NaN            NaN                                                                                               NaN   \n",
            "\"Petter Mattei's \"\"Love in the Time of Money\"\" ... power and success do to people in the different... the director transfers the action to the presen... or another to the next person                       but no one seems to know the previous point of...  the film has a sophisticated luxurious look. W...  as one discerns is the case with most of the p...  Rosario Dawson                                     Carol Kane  Michael Imperioli  Adrian Grenier  and the rest of the talented cast  make these characters come alive.<br /><br />W... positive                       NaN           NaN                                                NaN           NaN                                                NaN                                NaN                    NaN                         NaN                                                NaN                                                NaN                                                NaN            NaN                                                                                               NaN   \n",
            "\n",
            "                                                                                                                                                                                                                                                                                                                                                                                                                                                                                                                                                                                                                                                                                                                                                                                                                                                                                                                                                                                                                                               sentiment  \n",
            "\"One of the other reviewers has mentioned that ... as this is exactly what happened with me.<br />... which set in right from the word GO. Trust me      this is not a show for the faint hearted or tim...  sex or violence. Its is hardcore                   in the classic use of the word.<br /><br />It ...  an experimental section of the prison where al...  so privacy is not high on the agenda. Em City ...  Muslims     gangstas           Latinos         Christians                         Italians                                           Irish and more....so scuffles  death stares  dodgy dealings and shady agreements are never ...  forget charm  forget romance...OZ doesn't mess around. The f...  I couldn't say I was ready for it  but as I watched more  I developed a taste for Oz  and got accustomed to the high levels of graph...  but injustice (crooked guards who'll be sold o...  inmates who'll kill on order and get away with it  well mannered  middle class inmates being turned into prison ...  positive  \n",
            "\"A wonderful little production. <br /><br />The... and sometimes discomforting                        sense of realism to the entire piece. <br /><br... not only is it well worth the watching but it i...  rather than use the traditional 'dream' techni...  particularly with the scenes concerning Orton ... positive                                           NaN                                                NaN         NaN                NaN             NaN                                NaN                                                NaN                            NaN           NaN                                                NaN           NaN                                                NaN                                NaN                    NaN                         NaN                                                NaN                                                NaN                                                NaN            NaN                                                      NaN  \n",
            "\"I thought this was a wonderful way to spend ti... sitting in the air conditioned theater and watc... but the dialogue is witty and the characters ar... I thought it was proof that Woody Allen is stil...  in this she managed to tone down her \"\"sexy\"\" ...  but spirited young woman.<br /><br />This may ...  but it was wittier than \"\"Devil Wears Prada\"\" ... positive                                           NaN         NaN                NaN             NaN                                NaN                                                NaN                            NaN           NaN                                                NaN           NaN                                                NaN                                NaN                    NaN                         NaN                                                NaN                                                NaN                                                NaN            NaN                                                      NaN  \n",
            "\"Basically there's a family where a little boy ... Jake decides to become Rambo and kill the zombi... first of all when you're going to make a film y... and instead i watched a drama with some meaning... negative                                           NaN                                                NaN                                                NaN                                                NaN         NaN                NaN             NaN                                NaN                                                NaN                            NaN           NaN                                                NaN           NaN                                                NaN                                NaN                    NaN                         NaN                                                NaN                                                NaN                                                NaN            NaN                                                      NaN  \n",
            "\"Petter Mattei's \"\"Love in the Time of Money\"\" ... power and success do to people in the different... the director transfers the action to the presen... or another to the next person                       but no one seems to know the previous point of...  the film has a sophisticated luxurious look. W...  as one discerns is the case with most of the p...  Rosario Dawson                                     Carol Kane  Michael Imperioli  Adrian Grenier  and the rest of the talented cast  make these characters come alive.<br /><br />W... positive                       NaN           NaN                                                NaN           NaN                                                NaN                                NaN                    NaN                         NaN                                                NaN                                                NaN                                                NaN            NaN                                                      NaN  \n",
            "Index(['review', 'sentiment'], dtype='object')\n",
            "Dataset has 2 columns\n"
          ]
        }
      ]
    },
    {
      "cell_type": "code",
      "source": [
        "df = df.iloc[:, [0, 1]]\n",
        "df.columns = [\"review\", \"sentiment\"]\n",
        "df.columns = df.columns.str.strip()\n",
        "df = df.dropna()\n",
        "print(f\"Dataset size after cleaning: {df.shape}\")\n"
      ],
      "metadata": {
        "colab": {
          "base_uri": "https://localhost:8080/"
        },
        "id": "w-6XvIBDl17J",
        "outputId": "8dbaaf70-112c-46ee-b7df-ce70fc0a2597"
      },
      "execution_count": null,
      "outputs": [
        {
          "output_type": "stream",
          "name": "stdout",
          "text": [
            "Dataset size after cleaning: (33691, 2)\n"
          ]
        }
      ]
    },
    {
      "cell_type": "code",
      "source": [
        "import tensorflow as tf\n",
        "from sklearn.model_selection import train_test_split\n",
        "import numpy as np\n",
        "texts = df['review'].astype(str).tolist()\n",
        "labels = df['sentiment'].apply(lambda x: 1 if x == \"positive\" else 0).values\n",
        "\n",
        "x_train, x_test, y_train, y_test = train_test_split(texts, labels, test_size=0.2, random_state=42)\n",
        "\n",
        "vocab_size = 10000\n",
        "max_length = 200\n",
        "tokenizer = Tokenizer(num_words=vocab_size, oov_token=\"<OOV>\")\n",
        "tokenizer.fit_on_texts(x_train)\n",
        "\n",
        "x_train_seq = tokenizer.texts_to_sequences(x_train)\n",
        "x_test_seq = tokenizer.texts_to_sequences(x_test)\n",
        "\n",
        "x_train_pad = pad_sequences(x_train_seq, maxlen=max_length, padding='post', truncating='post')\n",
        "x_test_pad = pad_sequences(x_test_seq, maxlen=max_length, padding='post', truncating='post')\n"
      ],
      "metadata": {
        "id": "lG0VC2mUeOK9"
      },
      "execution_count": 7,
      "outputs": []
    },
    {
      "cell_type": "code",
      "source": [],
      "metadata": {
        "id": "G3dlgiDFjjXc"
      },
      "execution_count": null,
      "outputs": []
    },
    {
      "cell_type": "code",
      "source": [
        "from tensorflow.keras.models import Sequential\n",
        "from tensorflow.keras.layers import Embedding, LSTM, Dense\n",
        "\n",
        "model = Sequential([\n",
        "    Embedding(input_dim=vocab_size, output_dim=32),\n",
        "    LSTM(32, return_sequences=False),\n",
        "    Dense(1, activation='sigmoid')\n",
        "])\n",
        "\n",
        "\n",
        "model.compile(loss='binary_crossentropy', optimizer='adam', metrics=['accuracy'])\n",
        "model.summary()\n",
        "\n"
      ],
      "metadata": {
        "colab": {
          "base_uri": "https://localhost:8080/",
          "height": 225
        },
        "id": "MAmNscLJmuMn",
        "outputId": "ccad2876-a60a-47bd-9044-a43f6a766422"
      },
      "execution_count": 8,
      "outputs": [
        {
          "output_type": "display_data",
          "data": {
            "text/plain": [
              "\u001b[1mModel: \"sequential\"\u001b[0m\n"
            ],
            "text/html": [
              "<pre style=\"white-space:pre;overflow-x:auto;line-height:normal;font-family:Menlo,'DejaVu Sans Mono',consolas,'Courier New',monospace\"><span style=\"font-weight: bold\">Model: \"sequential\"</span>\n",
              "</pre>\n"
            ]
          },
          "metadata": {}
        },
        {
          "output_type": "display_data",
          "data": {
            "text/plain": [
              "┏━━━━━━━━━━━━━━━━━━━━━━━━━━━━━━━━━━━━━━┳━━━━━━━━━━━━━━━━━━━━━━━━━━━━━┳━━━━━━━━━━━━━━━━━┓\n",
              "┃\u001b[1m \u001b[0m\u001b[1mLayer (type)                        \u001b[0m\u001b[1m \u001b[0m┃\u001b[1m \u001b[0m\u001b[1mOutput Shape               \u001b[0m\u001b[1m \u001b[0m┃\u001b[1m \u001b[0m\u001b[1m        Param #\u001b[0m\u001b[1m \u001b[0m┃\n",
              "┡━━━━━━━━━━━━━━━━━━━━━━━━━━━━━━━━━━━━━━╇━━━━━━━━━━━━━━━━━━━━━━━━━━━━━╇━━━━━━━━━━━━━━━━━┩\n",
              "│ embedding (\u001b[38;5;33mEmbedding\u001b[0m)                │ ?                           │     \u001b[38;5;34m0\u001b[0m (unbuilt) │\n",
              "├──────────────────────────────────────┼─────────────────────────────┼─────────────────┤\n",
              "│ lstm (\u001b[38;5;33mLSTM\u001b[0m)                          │ ?                           │     \u001b[38;5;34m0\u001b[0m (unbuilt) │\n",
              "├──────────────────────────────────────┼─────────────────────────────┼─────────────────┤\n",
              "│ dense (\u001b[38;5;33mDense\u001b[0m)                        │ ?                           │     \u001b[38;5;34m0\u001b[0m (unbuilt) │\n",
              "└──────────────────────────────────────┴─────────────────────────────┴─────────────────┘\n"
            ],
            "text/html": [
              "<pre style=\"white-space:pre;overflow-x:auto;line-height:normal;font-family:Menlo,'DejaVu Sans Mono',consolas,'Courier New',monospace\">┏━━━━━━━━━━━━━━━━━━━━━━━━━━━━━━━━━━━━━━┳━━━━━━━━━━━━━━━━━━━━━━━━━━━━━┳━━━━━━━━━━━━━━━━━┓\n",
              "┃<span style=\"font-weight: bold\"> Layer (type)                         </span>┃<span style=\"font-weight: bold\"> Output Shape                </span>┃<span style=\"font-weight: bold\">         Param # </span>┃\n",
              "┡━━━━━━━━━━━━━━━━━━━━━━━━━━━━━━━━━━━━━━╇━━━━━━━━━━━━━━━━━━━━━━━━━━━━━╇━━━━━━━━━━━━━━━━━┩\n",
              "│ embedding (<span style=\"color: #0087ff; text-decoration-color: #0087ff\">Embedding</span>)                │ ?                           │     <span style=\"color: #00af00; text-decoration-color: #00af00\">0</span> (unbuilt) │\n",
              "├──────────────────────────────────────┼─────────────────────────────┼─────────────────┤\n",
              "│ lstm (<span style=\"color: #0087ff; text-decoration-color: #0087ff\">LSTM</span>)                          │ ?                           │     <span style=\"color: #00af00; text-decoration-color: #00af00\">0</span> (unbuilt) │\n",
              "├──────────────────────────────────────┼─────────────────────────────┼─────────────────┤\n",
              "│ dense (<span style=\"color: #0087ff; text-decoration-color: #0087ff\">Dense</span>)                        │ ?                           │     <span style=\"color: #00af00; text-decoration-color: #00af00\">0</span> (unbuilt) │\n",
              "└──────────────────────────────────────┴─────────────────────────────┴─────────────────┘\n",
              "</pre>\n"
            ]
          },
          "metadata": {}
        },
        {
          "output_type": "display_data",
          "data": {
            "text/plain": [
              "\u001b[1m Total params: \u001b[0m\u001b[38;5;34m0\u001b[0m (0.00 B)\n"
            ],
            "text/html": [
              "<pre style=\"white-space:pre;overflow-x:auto;line-height:normal;font-family:Menlo,'DejaVu Sans Mono',consolas,'Courier New',monospace\"><span style=\"font-weight: bold\"> Total params: </span><span style=\"color: #00af00; text-decoration-color: #00af00\">0</span> (0.00 B)\n",
              "</pre>\n"
            ]
          },
          "metadata": {}
        },
        {
          "output_type": "display_data",
          "data": {
            "text/plain": [
              "\u001b[1m Trainable params: \u001b[0m\u001b[38;5;34m0\u001b[0m (0.00 B)\n"
            ],
            "text/html": [
              "<pre style=\"white-space:pre;overflow-x:auto;line-height:normal;font-family:Menlo,'DejaVu Sans Mono',consolas,'Courier New',monospace\"><span style=\"font-weight: bold\"> Trainable params: </span><span style=\"color: #00af00; text-decoration-color: #00af00\">0</span> (0.00 B)\n",
              "</pre>\n"
            ]
          },
          "metadata": {}
        },
        {
          "output_type": "display_data",
          "data": {
            "text/plain": [
              "\u001b[1m Non-trainable params: \u001b[0m\u001b[38;5;34m0\u001b[0m (0.00 B)\n"
            ],
            "text/html": [
              "<pre style=\"white-space:pre;overflow-x:auto;line-height:normal;font-family:Menlo,'DejaVu Sans Mono',consolas,'Courier New',monospace\"><span style=\"font-weight: bold\"> Non-trainable params: </span><span style=\"color: #00af00; text-decoration-color: #00af00\">0</span> (0.00 B)\n",
              "</pre>\n"
            ]
          },
          "metadata": {}
        }
      ]
    },
    {
      "cell_type": "code",
      "source": [
        "model.fit(x_train_pad, y_train, epochs=5, batch_size=64, validation_data=(x_test_pad, y_test))\n"
      ],
      "metadata": {
        "colab": {
          "base_uri": "https://localhost:8080/"
        },
        "id": "xEDpk80UnAEm",
        "outputId": "a4da76de-20b7-4a9e-a5e9-302a8867ca5a"
      },
      "execution_count": 9,
      "outputs": [
        {
          "output_type": "stream",
          "name": "stdout",
          "text": [
            "Epoch 1/5\n",
            "\u001b[1m28/28\u001b[0m \u001b[32m━━━━━━━━━━━━━━━━━━━━\u001b[0m\u001b[37m\u001b[0m \u001b[1m7s\u001b[0m 113ms/step - accuracy: 0.9987 - loss: 0.3468 - val_accuracy: 0.9911 - val_loss: 0.0512\n",
            "Epoch 2/5\n",
            "\u001b[1m28/28\u001b[0m \u001b[32m━━━━━━━━━━━━━━━━━━━━\u001b[0m\u001b[37m\u001b[0m \u001b[1m5s\u001b[0m 99ms/step - accuracy: 0.9996 - loss: 0.0080 - val_accuracy: 0.9911 - val_loss: 0.0554\n",
            "Epoch 3/5\n",
            "\u001b[1m28/28\u001b[0m \u001b[32m━━━━━━━━━━━━━━━━━━━━\u001b[0m\u001b[37m\u001b[0m \u001b[1m5s\u001b[0m 99ms/step - accuracy: 0.9985 - loss: 0.0113 - val_accuracy: 0.9911 - val_loss: 0.0576\n",
            "Epoch 4/5\n",
            "\u001b[1m28/28\u001b[0m \u001b[32m━━━━━━━━━━━━━━━━━━━━\u001b[0m\u001b[37m\u001b[0m \u001b[1m5s\u001b[0m 98ms/step - accuracy: 0.9987 - loss: 0.0098 - val_accuracy: 0.9911 - val_loss: 0.0588\n",
            "Epoch 5/5\n",
            "\u001b[1m28/28\u001b[0m \u001b[32m━━━━━━━━━━━━━━━━━━━━\u001b[0m\u001b[37m\u001b[0m \u001b[1m6s\u001b[0m 141ms/step - accuracy: 0.9996 - loss: 0.0041 - val_accuracy: 0.9911 - val_loss: 0.0602\n"
          ]
        },
        {
          "output_type": "execute_result",
          "data": {
            "text/plain": [
              "<keras.src.callbacks.history.History at 0x7d96fdc27b90>"
            ]
          },
          "metadata": {},
          "execution_count": 9
        }
      ]
    },
    {
      "cell_type": "code",
      "source": [
        "test_loss, test_acc = model.evaluate(x_test_pad, y_test)\n",
        "print(f\"Test Accuracy: {test_acc * 100:.2f}%\")"
      ],
      "metadata": {
        "colab": {
          "base_uri": "https://localhost:8080/"
        },
        "id": "ymcr9uDLnzHH",
        "outputId": "861e9698-d0b4-47f2-ed95-13575d5862cb"
      },
      "execution_count": 10,
      "outputs": [
        {
          "output_type": "stream",
          "name": "stdout",
          "text": [
            "\u001b[1m14/14\u001b[0m \u001b[32m━━━━━━━━━━━━━━━━━━━━\u001b[0m\u001b[37m\u001b[0m \u001b[1m0s\u001b[0m 21ms/step - accuracy: 0.9940 - loss: 0.0411\n",
            "Test Accuracy: 99.11%\n"
          ]
        }
      ]
    }
  ]
}